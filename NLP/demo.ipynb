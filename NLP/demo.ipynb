{
 "cells": [
  {
   "cell_type": "code",
   "execution_count": null,
   "id": "fd1bb8ba",
   "metadata": {},
   "outputs": [],
   "source": [
    "import json\n",
    "import numpy as np\n",
    "from pyvi import ViTokenizer\n",
    "from underthesea import sent_tokenize\n",
    "from gensim.models import KeyedVectors\n",
    "from sklearn.cluster import KMeans\n",
    "from sklearn.metrics import pairwise_distances_argmin_min\n",
    "from tqdm import tqdm\n"
   ]
  },
  {
   "cell_type": "code",
   "execution_count": null,
   "id": "e9bcea65",
   "metadata": {},
   "outputs": [],
   "source": [
    "data_json = []\n",
    "with open('/content/drive/MyDrive/data/data_TL_check.jsonl', 'r', encoding='utf-8') as f:\n",
    "    for line in f:\n",
    "        data_json.append(json.loads(line))"
   ]
  },
  {
   "cell_type": "code",
   "execution_count": null,
   "id": "ae7c964b",
   "metadata": {},
   "outputs": [],
   "source": [
    "# Lôad w2v\n",
    "w2v = KeyedVectors.load_word2vec_format(\"/content/drive/MyDrive/data/vi.vec\")\n",
    "vocab = w2v.index_to_key"
   ]
  },
  {
   "cell_type": "code",
   "execution_count": null,
   "id": "55be9e9b",
   "metadata": {},
   "outputs": [],
   "source": [
    "summaries = []\n",
    "# Tóm tắt từng bài\n",
    "for item in tqdm(data_json, desc=\"Summarizing articles with KMeans\"):\n",
    "    content = item.get('content', \"\")\n",
    "    if not content.strip():\n",
    "        summaries.append({\"content\": content, \"summary\": \"\"})\n",
    "        continue\n",
    "    sentences = sent_tokenize(content.lower().replace('\\n', '. ').strip())\n",
    "    sentences = [s.strip() for s in sentences if s.strip()]\n",
    "    if not sentences:\n",
    "        summaries.append({\"content\": content, \"summary\": \"\"})\n",
    "        continue\n",
    "\n",
    "    # Biểu diễn vecto\n",
    "    X = []\n",
    "    for s in sentences:\n",
    "        words = ViTokenizer.tokenize(s).split()\n",
    "        vec = np.zeros((100,))\n",
    "        for w in words:\n",
    "            if w in vocab:\n",
    "                vec += w2v[w]\n",
    "        X.append(vec)\n",
    "    X = np.array(X)\n",
    "    # Số cụm (câu trong summary)\n",
    "    n_clusters = min(5, len(sentences))  # tối đa 5 câu hoặc ít hơn nếu bài ngắn\n",
    "    kmeans = KMeans(n_clusters=n_clusters, n_init=5, random_state=42).fit(X)\n",
    "\n",
    "    # Chọn câu gần \n",
    "    closest, _ = pairwise_distances_argmin_min(kmeans.cluster_centers_, X)\n",
    "\n",
    "    # Sắp xếp theo thứ tự \n",
    "    summary_sentence_idx = sorted(closest)\n",
    "    summary_sentences = [sentences[i] for i in summary_sentence_idx]\n",
    "    summary = ' '.join(summary_sentences)\n",
    "    summaries.append({\"content\": content, \"summary\": summary})"
   ]
  },
  {
   "cell_type": "code",
   "execution_count": null,
   "id": "ca94172a",
   "metadata": {},
   "outputs": [],
   "source": [
    "\n",
    "for i, item in enumerate(summaries[:5]):\n",
    "    print(f\"\\n==== Article {i+1} ====\")\n",
    "    print(\"Content:\\n\", item['content'][:500], \"...\" if len(item['content']) > 500 else \"\")\n",
    "    print(\"\\nSummary:\\n\", item['summary'])\n",
    "    print(\"========================\")"
   ]
  },
  {
   "cell_type": "code",
   "execution_count": null,
   "id": "f5dd164c",
   "metadata": {},
   "outputs": [],
   "source": []
  },
  {
   "cell_type": "code",
   "execution_count": null,
   "id": "7480fe27",
   "metadata": {},
   "outputs": [],
   "source": []
  },
  {
   "cell_type": "code",
   "execution_count": null,
   "id": "804207ac",
   "metadata": {},
   "outputs": [],
   "source": []
  },
  {
   "cell_type": "code",
   "execution_count": null,
   "id": "e237a7eb",
   "metadata": {},
   "outputs": [],
   "source": []
  },
  {
   "cell_type": "code",
   "execution_count": null,
   "id": "ac66b728",
   "metadata": {},
   "outputs": [],
   "source": []
  },
  {
   "cell_type": "code",
   "execution_count": null,
   "id": "1465af74",
   "metadata": {},
   "outputs": [],
   "source": []
  },
  {
   "cell_type": "code",
   "execution_count": null,
   "id": "0b1d72c1",
   "metadata": {},
   "outputs": [],
   "source": []
  },
  {
   "cell_type": "code",
   "execution_count": null,
   "id": "8724dbbb",
   "metadata": {},
   "outputs": [],
   "source": []
  }
 ],
 "metadata": {
  "kernelspec": {
   "display_name": "Python 3",
   "language": "python",
   "name": "python3"
  },
  "language_info": {
   "codemirror_mode": {
    "name": "ipython",
    "version": 3
   },
   "file_extension": ".py",
   "mimetype": "text/x-python",
   "name": "python",
   "nbconvert_exporter": "python",
   "pygments_lexer": "ipython3",
   "version": "3.10.8"
  }
 },
 "nbformat": 4,
 "nbformat_minor": 5
}
