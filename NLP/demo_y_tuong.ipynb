{
  "cells": [
    {
      "cell_type": "code",
      "execution_count": null,
      "metadata": {
        "id": "TiJ_aLtgFcGZ"
      },
      "outputs": [],
      "source": [
        "import nltk\n",
        "import numpy as np\n",
        "from gensim.models import Word2Vec, KeyedVectors\n",
        "from keras.models import Sequential\n",
        "from keras.layers import LSTM, Dense\n",
        "from sklearn.cluster import KMeans\n",
        "from sklearn.metrics import pairwise_distances_argmin_min\n"
      ]
    },
    {
      "cell_type": "code",
      "execution_count": null,
      "metadata": {
        "id": "O2D_cm55LmqH"
      },
      "outputs": [],
      "source": [
        "content = '''Chính phủ đề xuất tiếp tục thực hiện chính sách giảm thuế VAT từ 10% còn 8%, trừ một số nhóm hàng hóa, dịch vụ như ngân hàng, bảo hiểm, kinh doanh bất động sản…\n",
        "Bộ trưởng Bộ Tài chính Hồ Đức Phớc chiều 24/5 trình bày Tờ trình về tiếp tục thực hiện chính sách giảm thuế giá trị gia tăng (VAT) 2% theo Nghị quyết số 43/2022/QH15 ngày 11/1/2022. Thời gian đề xuất áp dụng, theo tờ trình, là từ ngày 1/7 đến hết 31/12 năm nay.\n",
        "\n",
        "Theo Bộ trưởng Phớc, thực tế cho thấy, các giải pháp hỗ trợ doanh nghiệp, người dân về thuế, phí và lệ phí nói chung và giảm thuế VAT nói riêng có tác động tích cực và được cộng đồng doanh nghiệp, người dân hưởng ứng, đánh giá cao, qua đó góp phần vào những kết quả tích cực trong phục hồi và phát triển của doanh nghiệp, người dân và nền kinh tế trong thời gian qua.\n",
        "\n",
        "Do vậy, năm 2023 Chính phủ đề xuất tiếp tục thực hiện chính sách giảm thuế VAT 2% quy định tại điểm a khoản 1.1 Điều 3 Nghị quyết số 43/2022/QH15 về chính sách tài khóa, tiền tệ hỗ trợ Chương trình phục hồi và phát triển kinh tế - xã hội.\n",
        "\n",
        "Cụ thể là giảm 2% thuế suất thuế giá trị gia tăng, áp dụng đối với các nhóm hàng hóa, dịch vụ đang áp dụng mức thuế suất 10% (còn 8%), trừ một số nhóm hàng hóa, dịch vụ sau: viễn thông, công nghệ thông tin, hoạt động tài chính, ngân hàng, chứng khoán, bảo hiểm, kinh doanh bất động sản, kim loại, sản phẩm từ kim loại đúc sẵn, sản phẩm khai khoáng (không kể khai thác than), than cốc, dầu mỏ tinh chế, sản phẩm hóa chất, sản phẩm hàng hóa và dịch vụ chịu thuế tiêu thụ đặc biệt.\n",
        "\n",
        "Bộ trưởng Hồ Đức Phớc nhấn mạnh, thực hiện theo phương án này nhằm đảm bảo đúng mục tiêu kích cầu tiêu dùng, phù hợp với bối cảnh kinh tế hiện nay, qua đó thúc đẩy hoạt động sản xuất kinh doanh sớm phục hồi và phát triển để đóng góp trở lại cho ngân sách Nhà nước cũng như nền kinh tế.\n",
        "\n",
        "Với giải pháp giảm thuế VAT cho các đối tượng như đã được thực hiện trong năm 2022 theo Nghị quyết số 43/2022/QH15, nếu áp dụng trong 6 tháng cuối năm nay thì dự kiến số giảm thu ngân sách Nhà nước tương đương khoảng 24.000 tỷ đồng (đối với thu ngân sách Nhà nước năm 2023 thì dự kiến giảm 20.000 tỷ đồng do số thu thuế VAT phải nộp của tháng 12/2023 nộp trong tháng 1/2024).\n",
        "\n",
        "Bộ trưởng Hồ Đức Phớc khẳng định, người dân là đối tượng sẽ được hưởng lợi trực tiếp của chính sách này, việc giảm thuế VAT đối với hàng hóa, dịch vụ chịu thuế suất thuế VAT 10% sẽ góp phần giảm giá bán, từ đó góp phần giảm trực tiếp chi phí của người dân trong việc tiêu dùng hàng hóa, dịch vụ phục vụ đời sống nhân dân.\n",
        "\n",
        "Đối với các doanh nghiệp sản xuất, kinh doanh hàng hóa, cung ứng dịch vụ chịu thuế VAT thuế suất 10% sẽ được hưởng lợi khi chính sách được ban hành. Việc giảm thuế VAT sẽ góp phần làm giảm chi phí sản xuất, hạ giá thành sản phẩm, từ đó giúp doanh nghiệp tăng khả năng phục hồi và mở rộng sản xuất kinh doanh.'''"
      ]
    },
    {
      "cell_type": "code",
      "execution_count": 133,
      "metadata": {
        "id": "ba6FbukqFkWQ"
      },
      "outputs": [],
      "source": [
        "contents_parsed = content.lower() #Biến đổi hết thành chữ thường\n",
        "contents_parsed = contents_parsed.replace('\\n', '. ') #Đổi các ký tự xuống dòng thành chấm câu\n",
        "contents_parsed = contents_parsed.strip() #Loại bỏ đi các khoảng trắng thừa"
      ]
    },
    {
      "cell_type": "code",
      "execution_count": 134,
      "metadata": {
        "colab": {
          "base_uri": "https://localhost:8080/"
        },
        "id": "qGId5OKxNaxj",
        "outputId": "220bcd71-271a-405f-fd84-c0ddc9163eaf"
      },
      "outputs": [
        {
          "name": "stdout",
          "output_type": "stream",
          "text": [
            "Requirement already satisfied: nltk in /usr/local/lib/python3.12/dist-packages (3.9.1)\n",
            "Requirement already satisfied: click in /usr/local/lib/python3.12/dist-packages (from nltk) (8.3.0)\n",
            "Requirement already satisfied: joblib in /usr/local/lib/python3.12/dist-packages (from nltk) (1.5.2)\n",
            "Requirement already satisfied: regex>=2021.8.3 in /usr/local/lib/python3.12/dist-packages (from nltk) (2024.11.6)\n",
            "Requirement already satisfied: tqdm in /usr/local/lib/python3.12/dist-packages (from nltk) (4.67.1)\n"
          ]
        }
      ],
      "source": [
        "!pip install nltk\n"
      ]
    },
    {
      "cell_type": "code",
      "execution_count": 135,
      "metadata": {
        "colab": {
          "base_uri": "https://localhost:8080/"
        },
        "id": "rrfkL7_DNmDF",
        "outputId": "f436d6f1-724a-4c35-f787-ca4a6c0c0ad7"
      },
      "outputs": [
        {
          "name": "stderr",
          "output_type": "stream",
          "text": [
            "[nltk_data] Downloading package punkt to /root/nltk_data...\n",
            "[nltk_data]   Package punkt is already up-to-date!\n",
            "[nltk_data] Downloading package punkt_tab to /root/nltk_data...\n",
            "[nltk_data]   Package punkt_tab is already up-to-date!\n"
          ]
        },
        {
          "data": {
            "text/plain": [
              "True"
            ]
          },
          "execution_count": 135,
          "metadata": {},
          "output_type": "execute_result"
        }
      ],
      "source": [
        "\n",
        "\n",
        "nltk.download('punkt')\n",
        "nltk.download('punkt_tab')  # bản mới của NLTK yêu cầu thêm gói này\n"
      ]
    },
    {
      "cell_type": "code",
      "execution_count": null,
      "metadata": {
        "id": "c-gEXW-7NAvE"
      },
      "outputs": [],
      "source": [
        "sentences = nltk.sent_tokenize(contents_parsed)"
      ]
    },
    {
      "cell_type": "code",
      "execution_count": 138,
      "metadata": {
        "id": "E0WoUXISFojJ"
      },
      "outputs": [],
      "source": [
        "w2v = KeyedVectors.load_word2vec_format(\"/content/drive/MyDrive/data/vi.vec\")"
      ]
    },
    {
      "cell_type": "code",
      "execution_count": 139,
      "metadata": {
        "colab": {
          "base_uri": "https://localhost:8080/"
        },
        "id": "-zJoPOJ-OAbI",
        "outputId": "18a11fde-d08a-4566-aac3-9c01b529cb4a"
      },
      "outputs": [
        {
          "name": "stdout",
          "output_type": "stream",
          "text": [
            "Requirement already satisfied: pyvi in /usr/local/lib/python3.12/dist-packages (0.1.1)\n",
            "Requirement already satisfied: scikit-learn in /usr/local/lib/python3.12/dist-packages (from pyvi) (1.6.1)\n",
            "Requirement already satisfied: sklearn-crfsuite in /usr/local/lib/python3.12/dist-packages (from pyvi) (0.5.0)\n",
            "Requirement already satisfied: numpy>=1.19.5 in /usr/local/lib/python3.12/dist-packages (from scikit-learn->pyvi) (1.26.4)\n",
            "Requirement already satisfied: scipy>=1.6.0 in /usr/local/lib/python3.12/dist-packages (from scikit-learn->pyvi) (1.13.1)\n",
            "Requirement already satisfied: joblib>=1.2.0 in /usr/local/lib/python3.12/dist-packages (from scikit-learn->pyvi) (1.5.2)\n",
            "Requirement already satisfied: threadpoolctl>=3.1.0 in /usr/local/lib/python3.12/dist-packages (from scikit-learn->pyvi) (3.6.0)\n",
            "Requirement already satisfied: python-crfsuite>=0.9.7 in /usr/local/lib/python3.12/dist-packages (from sklearn-crfsuite->pyvi) (0.9.11)\n",
            "Requirement already satisfied: tabulate>=0.4.2 in /usr/local/lib/python3.12/dist-packages (from sklearn-crfsuite->pyvi) (0.9.0)\n",
            "Requirement already satisfied: tqdm>=2.0 in /usr/local/lib/python3.12/dist-packages (from sklearn-crfsuite->pyvi) (4.67.1)\n"
          ]
        }
      ],
      "source": [
        "!pip install pyvi"
      ]
    },
    {
      "cell_type": "code",
      "execution_count": 140,
      "metadata": {
        "id": "E8IkNnohMHyj"
      },
      "outputs": [],
      "source": [
        "vocab = w2v.index_to_key #Danh sách các từ trong từ điển\n",
        "\n",
        "from pyvi import ViTokenizer\n",
        "\n",
        "X = []\n",
        "for sentence in sentences:\n",
        "    sentence_tokenized = ViTokenizer.tokenize(sentence)\n",
        "    words = sentence_tokenized.split(\" \")\n",
        "    sentence_vec = np.zeros((100))\n",
        "    for word in words:\n",
        "        if word in vocab:\n",
        "            sentence_vec += w2v[word]\n",
        "    X.append(sentence_vec)\n"
      ]
    },
    {
      "cell_type": "code",
      "execution_count": null,
      "metadata": {
        "id": "c3hxf1tbP2gO"
      },
      "outputs": [],
      "source": [
        "\n",
        "n_clusters = 5\n",
        "kmeans = KMeans(n_clusters=n_clusters)\n",
        "kmeans = kmeans.fit(X)"
      ]
    },
    {
      "cell_type": "code",
      "execution_count": null,
      "metadata": {
        "id": "7vZ-fDyTP-38"
      },
      "outputs": [],
      "source": [
        "avg = []\n",
        "for j in range(n_clusters):\n",
        "    idx = np.where(kmeans.labels_ == j)[0]\n",
        "    avg.append(np.mean(idx))\n",
        "closest, _ = pairwise_distances_argmin_min(kmeans.cluster_centers_, X)\n",
        "ordering = sorted(range(n_clusters), key=lambda k: avg[k])\n",
        "summary = ' '.join([sentences[closest[idx]] for idx in ordering])"
      ]
    },
    {
      "cell_type": "code",
      "execution_count": 143,
      "metadata": {
        "colab": {
          "base_uri": "https://localhost:8080/",
          "height": 175
        },
        "id": "pG5nZrbtQCOj",
        "outputId": "52aea62e-27c0-413d-f01c-34af0fdb4192"
      },
      "outputs": [
        {
          "data": {
            "application/vnd.google.colaboratory.intrinsic+json": {
              "type": "string"
            },
            "text/plain": [
              "'. đối với các doanh nghiệp sản xuất, kinh doanh hàng hóa, cung ứng dịch vụ chịu thuế vat thuế suất 10% sẽ được hưởng lợi khi chính sách được ban hành. cụ thể là giảm 2% thuế suất thuế giá trị gia tăng, áp dụng đối với các nhóm hàng hóa, dịch vụ đang áp dụng mức thuế suất 10% (còn 8%), trừ một số nhóm hàng hóa, dịch vụ sau: viễn thông, công nghệ thông tin, hoạt động tài chính, ngân hàng, chứng khoán, bảo hiểm, kinh doanh bất động sản, kim loại, sản phẩm từ kim loại đúc sẵn, sản phẩm khai khoáng (không kể khai thác than), than cốc, dầu mỏ tinh chế, sản phẩm hóa chất, sản phẩm hàng hóa và dịch vụ chịu thuế tiêu thụ đặc biệt. do vậy, năm 2023 chính phủ đề xuất tiếp tục thực hiện chính sách giảm thuế vat 2% quy định tại điểm a khoản 1.1 điều 3 nghị quyết số 43/2022/qh15 về chính sách tài khóa, tiền tệ hỗ trợ chương trình phục hồi và phát triển kinh tế - xã hội.. . bộ trưởng hồ đức phớc khẳng định, người dân là đối tượng sẽ được hưởng lợi trực tiếp của chính sách này, việc giảm thuế vat đối với hàng hóa, dịch vụ chịu thuế suất thuế vat 10% sẽ góp phần giảm giá bán, từ đó góp phần giảm trực tiếp chi phí của người dân trong việc tiêu dùng hàng hóa, dịch vụ phục vụ đời sống nhân dân.. .'"
            ]
          },
          "execution_count": 143,
          "metadata": {},
          "output_type": "execute_result"
        }
      ],
      "source": [
        "summary"
      ]
    }
  ],
  "metadata": {
    "colab": {
      "provenance": []
    },
    "kernelspec": {
      "display_name": "Python 3",
      "name": "python3"
    },
    "language_info": {
      "name": "python"
    }
  },
  "nbformat": 4,
  "nbformat_minor": 0
}
