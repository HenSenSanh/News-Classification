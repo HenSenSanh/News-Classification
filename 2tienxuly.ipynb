{
 "cells": [
  {
   "cell_type": "code",
   "execution_count": 2,
   "id": "63c9710f",
   "metadata": {},
   "outputs": [
    {
     "name": "stdout",
     "output_type": "stream",
     "text": [
      "Original Content:\n",
      " \"content\": \"Thời sự \\n\\n\\nThứ hai\n"
     ]
    }
   ],
   "source": [
    "import pandas as pd\n",
    "import numpy as np\n",
    "\n",
    "# Đọc file CSV (dùng engine=\"python\" và dtype=str để tránh lỗi do định dạng lạ)\n",
    "df = pd.read_csv(\"news.csv\", encoding=\"utf-8\", engine=\"python\", dtype=str)\n",
    "\n",
    "# Tìm cột chứa 'content' (không phân biệt hoa thường)\n",
    "content_col = None\n",
    "for col in df.columns:\n",
    "\tif 'content' in str(col).lower():\n",
    "\t\tcontent_col = col\n",
    "\t\tbreak\n",
    "\n",
    "if content_col is not None:\n",
    "\tsample_content = df.loc[0, content_col]\n",
    "else:\n",
    "\t# Nếu không tìm thấy, thử lấy ô đầu tiên (có thể là JSON/string chứa content)\n",
    "\tfirst_cell = df.iloc[0, 0]\n",
    "\ttry:\n",
    "\t\timport json\n",
    "\t\tparsed = json.loads(first_cell)\n",
    "\t\tif isinstance(parsed, dict):\n",
    "\t\t\tsample_content = parsed.get('content') or parsed.get('text') or first_cell\n",
    "\t\telse:\n",
    "\t\t\tsample_content = first_cell\n",
    "\texcept Exception:\n",
    "\t\tsample_content = first_cell\n",
    "\n",
    "print(\"Original Content:\")\n",
    "print(sample_content)\n"
   ]
  },
  {
   "cell_type": "markdown",
   "id": "f32ba9fa",
   "metadata": {},
   "source": [
    "## Bước 2. Làm sạch văn bản (Cleaning)\n",
    "\n",
    "Các bước dọn dẹp cơ bản:\n",
    "\n",
    "Chuyển về chữ thường (lowercase).\n",
    "\n",
    "Xóa dấu câu, số, ký tự đặc biệt.\n",
    "\n",
    "Xóa khoảng trắng thừa."
   ]
  },
  {
   "cell_type": "code",
   "execution_count": 3,
   "id": "60aed4da",
   "metadata": {},
   "outputs": [
    {
     "name": "stdout",
     "output_type": "stream",
     "text": [
      "Cleaned Content:\n",
      "\"content\": \"thời sự \\n\\n\\nthứ hai\n"
     ]
    }
   ],
   "source": [
    "import re\n",
    "\n",
    "def clean_text(text):\n",
    "    # Chuyển về chữ thường\n",
    "    text = text.lower()\n",
    "    \n",
    "    # Xóa ký tự đặc biệt, số, dấu câu\n",
    "    re.sub(r'[^a-zA-ZÀ-ỹ0-9%\\s]', ' ', text)\n",
    "    \n",
    "    # Xóa khoảng trắng thừa\n",
    "    text = re.sub(r'\\s+', ' ', text).strip()\n",
    "    \n",
    "    return text\n",
    "\n",
    "cleaned_content = clean_text(sample_content)\n",
    "print(\"Cleaned Content:\")\n",
    "print(cleaned_content)\n"
   ]
  },
  {
   "cell_type": "markdown",
   "id": "8e2c38cd",
   "metadata": {},
   "source": [
    "## Bước 3. Tách từ (Tokenization)\n",
    "\n",
    "Tiếng Việt cần tách từ đúng cách, ví dụ \"bộ công thương\" → \"bộ_công_thương\".\n",
    " dùng underthesea:\n",
    " ,hoặc \n",
    " \n",
    " -pyvi\n",
    "\n",
    "-VnCoreNLP"
   ]
  },
  {
   "cell_type": "code",
   "execution_count": 4,
   "id": "278cd5f6",
   "metadata": {},
   "outputs": [
    {
     "name": "stdout",
     "output_type": "stream",
     "text": [
      "Tokenized Content:\n",
      "hai tàu cá do bà nguyễn_thị_bé , 54 tuổi , xã long_hải , tp hcm ( tỉnh bà rịa - vũng tàu cũ ) làm_chủ . sáng 28/9 , hai tàu cùng 13 ngư_dân vào trú_bão trên sông gianh , thuộc phường bắc_giang . mỗi tàu cử một ngư_dân ở lại trông_giữ tài_sản , số còn lại lên bờ chờ bão qua . theo báo_cáo của chính_quyền phường bắc_giang , khuya 28/9 thấy quảng_trị trời lặng_gió , cho rằng bão đã qua , các ngư_dân quay lại tàu kiểm_tra kỹ_thuật , cho nổ máy , nấu cơm và chuẩn_bị các nhu_yếu_phẩm chuẩn_bị ra biển . tuy_nhiên , đến 22 h30 , tâm_bão áp sát đất_liền quảng_trị - hà_tĩnh , gió_giật mạnh , mưa to , nước sông gianh chảy xiết khiến hai tàu bị đứt dây_neo , trôi tự_do . 4 ngư_dân bơi được vào bờ , hiện được đưa về hải_đội biên_phòng 1 chăm_sóc . 9 người còn mất_tích . lực_lượng chức_năng đang huy_động nhân_lực , phương_tiện tìm_kiếm . sông giang nước dâng cao , sáng 29/9 . ảnh : đắc_thành bão bualoi đổ_bộ vào đèo ngang , giáp_ranh quảng_trị - hà_tĩnh lúc 0 h30 hôm_nay . nhưng 6-8_tiếng trước đó , bờ biển và cửa_biển quảng_trị đã có gió mạnh cấp 7-9 , sóng đánh mạnh vào bờ . hai tàu cá gồm 11 ngư_dân tp hcm trên đường vào lạch cửa việt tránh bão thì bị sóng đánh chìm một tàu , tàu còn lại chết máy . 9 người được cứu , hiện còn 2 người mất_tích . đắc_thành\n"
     ]
    }
   ],
   "source": [
    "\n",
    "from underthesea import word_tokenize\n",
    "\n",
    "tokenized_content = word_tokenize(cleaned_content, format=\"text\")\n",
    "print(\"Tokenized Content:\")\n",
    "print(tokenized_content)\n"
   ]
  },
  {
   "cell_type": "markdown",
   "id": "464def21",
   "metadata": {},
   "source": [
    "## Bước 4. Loại bỏ Stopwords\n",
    "\n",
    "Stopwords là các từ không mang nhiều thông tin, ví dụ: \"là\", \"của\", \"đã\", \"và\", \"nhưng\"...\n",
    "Bạn có thể tự tạo một danh sách stopwords hoặc dùng có sẵn."
   ]
  },
  {
   "cell_type": "code",
   "execution_count": 5,
   "id": "1cba39d3",
   "metadata": {},
   "outputs": [
    {
     "name": "stdout",
     "output_type": "stream",
     "text": [
      "Filtered Content (no stopwords):\n",
      "hai tàu cá do bà nguyễn_thị_bé , 54 tuổi , xã long_hải , tp hcm ( tỉnh bà rịa - vũng tàu cũ ) làm_chủ . sáng 28/9 , hai tàu 13 ngư_dân vào trú_bão trên sông gianh , thuộc phường bắc_giang . mỗi tàu cử một ngư_dân ở lại trông_giữ tài_sản , số còn lại lên bờ chờ bão qua . theo báo_cáo chính_quyền phường bắc_giang , khuya 28/9 thấy quảng_trị trời lặng_gió , cho rằng bão qua , các ngư_dân quay lại tàu kiểm_tra kỹ_thuật , cho nổ máy , nấu cơm chuẩn_bị các nhu_yếu_phẩm chuẩn_bị ra biển . tuy_nhiên , đến 22 h30 , tâm_bão áp sát đất_liền quảng_trị - hà_tĩnh , gió_giật mạnh , mưa to , nước sông gianh chảy xiết khiến hai tàu bị đứt dây_neo , trôi tự_do . 4 ngư_dân bơi được vào bờ , hiện được đưa về hải_đội biên_phòng 1 chăm_sóc . 9 người còn mất_tích . lực_lượng chức_năng đang huy_động nhân_lực , phương_tiện tìm_kiếm . sông giang nước dâng cao , sáng 29/9 . ảnh : đắc_thành bão bualoi đổ_bộ vào đèo ngang , giáp_ranh quảng_trị - hà_tĩnh lúc 0 h30 hôm_nay . 6-8_tiếng trước đó , bờ biển cửa_biển quảng_trị có gió mạnh cấp 7-9 , sóng đánh mạnh vào bờ . hai tàu cá gồm 11 ngư_dân tp hcm trên đường vào lạch cửa việt tránh bão thì bị sóng đánh chìm một tàu , tàu còn lại chết máy . 9 người được cứu , hiện còn 2 người mất_tích . đắc_thành\n"
     ]
    }
   ],
   "source": [
    "stopwords = [\"là\", \"của\", \"đã\", \"và\", \"nhưng\", \"trong\", \"cùng\"]\n",
    "\n",
    "def remove_stopwords(text):\n",
    "    words = text.split()\n",
    "    filtered_words = [w for w in words if w not in stopwords]\n",
    "    return \" \".join(filtered_words)\n",
    "\n",
    "filtered_content = remove_stopwords(tokenized_content)\n",
    "print(\"Filtered Content (no stopwords):\")\n",
    "print(filtered_content)\n"
   ]
  },
  {
   "cell_type": "markdown",
   "id": "1b4022dc",
   "metadata": {},
   "source": [
    "## Bước 5. Vector hóa (TF-IDF)\n",
    "\n",
    "Bây giờ, dữ liệu chữ đã sẵn sàng để biến thành vector số."
   ]
  },
  {
   "cell_type": "code",
   "execution_count": 6,
   "id": "1acf1e11",
   "metadata": {},
   "outputs": [
    {
     "name": "stdout",
     "output_type": "stream",
     "text": [
      "Tu_vung: ['11' '13' '22' '28' '29' '54' '8_tiếng' 'biên_phòng' 'biển' 'bualoi' 'bà'\n",
      " 'báo_cáo' 'bão' 'bơi' 'bắc_giang' 'bị' 'bờ' 'cao' 'cho' 'chuẩn_bị' 'chìm'\n",
      " 'chính_quyền' 'chăm_sóc' 'chảy' 'chết' 'chờ' 'chức_năng' 'cá' 'các' 'còn'\n",
      " 'có' 'cũ' 'cơm' 'cấp' 'cứu' 'cử' 'cửa' 'cửa_biển' 'do' 'dâng' 'dây_neo'\n",
      " 'giang' 'gianh' 'giáp_ranh' 'gió' 'gió_giật' 'gồm' 'h30' 'hai' 'hcm'\n",
      " 'hiện' 'huy_động' 'hà_tĩnh' 'hôm_nay' 'hải_đội' 'khiến' 'khuya'\n",
      " 'kiểm_tra' 'kỹ_thuật' 'long_hải' 'làm_chủ' 'lên' 'lúc' 'lạch' 'lại'\n",
      " 'lặng_gió' 'lực_lượng' 'máy' 'mưa' 'mạnh' 'mất_tích' 'mỗi' 'một' 'ngang'\n",
      " 'nguyễn_thị_bé' 'ngư_dân' 'người' 'nhu_yếu_phẩm' 'nhân_lực' 'nước' 'nấu'\n",
      " 'nổ' 'phương_tiện' 'phường' 'qua' 'quay' 'quảng_trị' 'ra' 'rằng' 'rịa'\n",
      " 'sáng' 'sát' 'sóng' 'sông' 'số' 'theo' 'thuộc' 'thì' 'thấy' 'to' 'tp'\n",
      " 'tránh' 'trên' 'trôi' 'trông_giữ' 'trú_bão' 'trước' 'trời' 'tuy_nhiên'\n",
      " 'tuổi' 'tài_sản' 'tàu' 'tâm_bão' 'tìm_kiếm' 'tỉnh' 'tự_do' 'việt' 'vào'\n",
      " 'vũng' 'về' 'xiết' 'xã' 'áp' 'đang' 'đánh' 'đèo' 'đó' 'đưa' 'đường'\n",
      " 'được' 'đất_liền' 'đắc_thành' 'đến' 'đổ_bộ' 'đứt' 'ảnh']\n",
      "TF-IDF vector:\n",
      " [[0.04642383 0.04642383 0.04642383 0.09284767 0.04642383 0.04642383\n",
      "  0.04642383 0.04642383 0.09284767 0.04642383 0.09284767 0.04642383\n",
      "  0.18569534 0.04642383 0.09284767 0.09284767 0.18569534 0.04642383\n",
      "  0.09284767 0.09284767 0.04642383 0.04642383 0.04642383 0.04642383\n",
      "  0.04642383 0.04642383 0.04642383 0.09284767 0.09284767 0.18569534\n",
      "  0.04642383 0.04642383 0.04642383 0.04642383 0.04642383 0.04642383\n",
      "  0.04642383 0.04642383 0.04642383 0.04642383 0.04642383 0.04642383\n",
      "  0.09284767 0.04642383 0.04642383 0.04642383 0.04642383 0.09284767\n",
      "  0.18569534 0.09284767 0.09284767 0.04642383 0.09284767 0.04642383\n",
      "  0.04642383 0.04642383 0.04642383 0.04642383 0.04642383 0.04642383\n",
      "  0.04642383 0.04642383 0.04642383 0.04642383 0.18569534 0.04642383\n",
      "  0.04642383 0.09284767 0.04642383 0.1392715  0.09284767 0.04642383\n",
      "  0.09284767 0.04642383 0.04642383 0.23211917 0.1392715  0.04642383\n",
      "  0.04642383 0.09284767 0.04642383 0.04642383 0.04642383 0.09284767\n",
      "  0.09284767 0.04642383 0.18569534 0.04642383 0.04642383 0.04642383\n",
      "  0.09284767 0.04642383 0.09284767 0.1392715  0.04642383 0.04642383\n",
      "  0.04642383 0.04642383 0.04642383 0.04642383 0.09284767 0.04642383\n",
      "  0.09284767 0.04642383 0.04642383 0.04642383 0.04642383 0.04642383\n",
      "  0.04642383 0.04642383 0.04642383 0.41781451 0.04642383 0.04642383\n",
      "  0.04642383 0.04642383 0.04642383 0.23211917 0.04642383 0.04642383\n",
      "  0.04642383 0.04642383 0.04642383 0.04642383 0.09284767 0.04642383\n",
      "  0.04642383 0.04642383 0.04642383 0.1392715  0.04642383 0.09284767\n",
      "  0.04642383 0.04642383 0.04642383 0.04642383]]\n",
      "Đã lưu vào file 'du_lieu.csv'\n"
     ]
    }
   ],
   "source": [
    "from sklearn.feature_extraction.text import TfidfVectorizer\n",
    "\n",
    "tfidf = TfidfVectorizer()\n",
    "vector = tfidf.fit_transform([filtered_content])\n",
    "\n",
    "# Xem các đặc trưng (từ vựng)\n",
    "print(\"Tu_vung:\", tfidf.get_feature_names_out())\n",
    "\n",
    "# Xem vector TF-IDF\n",
    "print(\"TF-IDF vector:\\n\", vector.toarray())\n",
    "\n",
    "vocab = tfidf.get_feature_names_out()\n",
    "\n",
    "df_vector = pd.DataFrame(vector.toarray(), columns=vocab)\n",
    "\n",
    "df_vector.to_csv(\"du_lieu.csv\", index=False, encoding=\"utf-8-sig\")\n",
    "\n",
    "print(\"Đã lưu vào file 'du_lieu.csv'\")\n"
   ]
  }
 ],
 "metadata": {
  "kernelspec": {
   "display_name": "Python 3",
   "language": "python",
   "name": "python3"
  },
  "language_info": {
   "codemirror_mode": {
    "name": "ipython",
    "version": 3
   },
   "file_extension": ".py",
   "mimetype": "text/x-python",
   "name": "python",
   "nbconvert_exporter": "python",
   "pygments_lexer": "ipython3",
   "version": "3.11.9"
  }
 },
 "nbformat": 4,
 "nbformat_minor": 5
}
